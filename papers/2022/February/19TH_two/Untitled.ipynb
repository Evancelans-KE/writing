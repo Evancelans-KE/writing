{
 "cells": [
  {
   "cell_type": "code",
   "execution_count": 3,
   "id": "ee0904d9",
   "metadata": {},
   "outputs": [
    {
     "name": "stdout",
     "output_type": "stream",
     "text": [
      "                region a  mineral  vitamin\n",
      "0               Pet park      100   113.51\n",
      "1       Quality pet shop       70   109.20\n",
      "2         Dubai pet food       75    75.96\n",
      "3       Pet plus express       50    12.50\n",
      "4             Choithrams       10   106.95\n",
      "5                 Almaya       60   111.50\n",
      "6  Brookland supermarket       90    28.00\n",
      "7                   Spar       15    25.31\n",
      "8          The pet shack       55   119.70\n",
      "9      New nasirn baqala       65    45.00\n",
      "          mineral     vitamin\n",
      "count   10.000000   10.000000\n",
      "mean    59.000000   74.763000\n",
      "std     28.848262   42.802529\n",
      "min     10.000000   12.500000\n",
      "25%     51.250000   32.250000\n",
      "50%     62.500000   91.455000\n",
      "75%     73.750000  110.925000\n",
      "max    100.000000  119.700000\n"
     ]
    }
   ],
   "source": [
    "#Load the dataset and read it on Jupyter\n",
    "from logging import critical\n",
    "from pandas.io.json import json_normalize\n",
    "import json\n",
    "import pandas as pd\n",
    "dataset = pd.read_csv(\"regions.csv\")\n",
    "#dataset\n",
    "df = pd.DataFrame(dataset)\n",
    "print(df)\n",
    "print(df.describe())\n",
    "\n",
    "\n"
   ]
  },
  {
   "cell_type": "code",
   "execution_count": null,
   "id": "44da3ad1",
   "metadata": {},
   "outputs": [],
   "source": []
  }
 ],
 "metadata": {
  "kernelspec": {
   "display_name": "Python 3 (ipykernel)",
   "language": "python",
   "name": "python3"
  },
  "language_info": {
   "codemirror_mode": {
    "name": "ipython",
    "version": 3
   },
   "file_extension": ".py",
   "mimetype": "text/x-python",
   "name": "python",
   "nbconvert_exporter": "python",
   "pygments_lexer": "ipython3",
   "version": "3.9.10"
  }
 },
 "nbformat": 4,
 "nbformat_minor": 5
}
