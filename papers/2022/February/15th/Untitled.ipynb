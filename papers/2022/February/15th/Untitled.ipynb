{
 "cells": [
  {
   "cell_type": "code",
   "execution_count": 23,
   "id": "47811cc6",
   "metadata": {},
   "outputs": [
    {
     "name": "stdout",
     "output_type": "stream",
     "text": [
      "X=[2, 4], Predicted=259.57590246547795\n"
     ]
    }
   ],
   "source": [
    "import pandas as pd\n",
    "import numpy as np\n",
    "from sklearn.preprocessing import LabelEncoder\n",
    "import random\n",
    "from sklearn.ensemble import RandomForestClassifier\n",
    "from sklearn.ensemble import GradientBoostingClassifier\n",
    "\n",
    "train=pd.read_csv('shop_visits.csv')\n",
    "test=pd.read_csv('shop_visits.csv') \n",
    "test['Type']='Test'\n",
    "fullData = pd.concat([train,test],axis=0) \n",
    "\n",
    "fullData.columns # Here we show all the column names\n",
    "fullData.head(10) # When you want to see the first 10 rows\n",
    "fullData.describe() #Indicates the summary of the dataset\n",
    "\n",
    "from sklearn.linear_model import LinearRegression\n",
    "from sklearn.datasets import make_regression\n",
    "# Next step is to generate regression dataset \n",
    "X, y = make_regression(n_samples=400, n_features=2, noise=0.1)\n",
    "# then fit the model as required \n",
    "model = LinearRegression()\n",
    "model.fit(X, y)\n",
    "# create a new data instance\n",
    "Xnew = [[2,4]]\n",
    "# the predict the outcome\n",
    "ynew = model.predict(Xnew)\n",
    "# show prediction\n",
    "print(\"X=%s, Predicted=%s\" % (Xnew[0], ynew[0]))\n",
    "\n"
   ]
  },
  {
   "cell_type": "code",
   "execution_count": null,
   "id": "7589d7e9",
   "metadata": {},
   "outputs": [],
   "source": []
  },
  {
   "cell_type": "code",
   "execution_count": null,
   "id": "0d13d0c2",
   "metadata": {},
   "outputs": [],
   "source": []
  }
 ],
 "metadata": {
  "kernelspec": {
   "display_name": "Python 3 (ipykernel)",
   "language": "python",
   "name": "python3"
  },
  "language_info": {
   "codemirror_mode": {
    "name": "ipython",
    "version": 3
   },
   "file_extension": ".py",
   "mimetype": "text/x-python",
   "name": "python",
   "nbconvert_exporter": "python",
   "pygments_lexer": "ipython3",
   "version": "3.9.10"
  }
 },
 "nbformat": 4,
 "nbformat_minor": 5
}
