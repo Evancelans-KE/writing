{
 "cells": [
  {
   "cell_type": "code",
   "execution_count": 21,
   "id": "47811cc6",
   "metadata": {},
   "outputs": [
    {
     "name": "stdout",
     "output_type": "stream",
     "text": [
      "        hour  count_of_shop_visits  sum_of_ shop _visits\n",
      "0   01:00:00                     5                    55\n",
      "1   02:00:00                    13                    29\n",
      "2   03:00:00                    15                     8\n",
      "3   04:00:00                     5                    66\n",
      "4   05:00:00                    15                    63\n",
      "5   06:00:00                    14                    93\n",
      "6   07:00:00                     7                     5\n",
      "7   08:00:00                     2                    30\n",
      "8   09:00:00                    14                    18\n",
      "9   10:00:00                     8                    45\n",
      "10  11:00:00                     1                    85\n",
      "11  12:00:00                    15                    71\n",
      "12  13:00:00                    10                     3\n",
      "13  14:00:00                     5                    45\n",
      "14  15:00:00                     8                    65\n",
      "15  16:00:00                     7                    21\n",
      "16  17:00:00                     8                    28\n",
      "17  18:00:00                     5                    99\n",
      "18  19:00:00                    11                    48\n",
      "19  20:00:00                     2                    46\n",
      "20  21:00:00                    11                    43\n",
      "21  22:00:00                    11                    40\n",
      "22  23:00:00                    14                    19\n",
      "       count_of_shop_visits  sum_of_ shop _visits\n",
      "count             23.000000             23.000000\n",
      "mean               8.956522             44.565217\n",
      "std                4.517423             27.202650\n",
      "min                1.000000              3.000000\n",
      "25%                5.000000             24.500000\n",
      "50%                8.000000             45.000000\n",
      "75%               13.500000             64.000000\n",
      "max               15.000000             99.000000\n"
     ]
    }
   ],
   "source": [
    "from pandas.io.json import json_normalize\n",
    "import json\n",
    "import pandas as pd\n",
    "import numpy as np\n",
    "import matplotlib.pyplot as plt\n",
    "%matplotlib inline\n",
    "dataset = pd.read_csv(\"shop_visits.csv\")\n",
    "\n",
    "df = pd.DataFrame(dataset)\n",
    "print(df)\n",
    "print(df.describe())\n",
    "\n",
    "shop_walkin =np.array([5,13,15,5,15,14,7,2,14,8,1,15,10,5,8,7,8,5,11,2,11,11,14]) \n",
    "total_visits=np.array([55,29,8,66,63,93,5,30,18,45,85,71,3,45,65,21,28,99,48,46,43,40,19])\n"
   ]
  },
  {
   "cell_type": "code",
   "execution_count": null,
   "id": "7589d7e9",
   "metadata": {},
   "outputs": [],
   "source": []
  },
  {
   "cell_type": "code",
   "execution_count": null,
   "id": "0d13d0c2",
   "metadata": {},
   "outputs": [],
   "source": []
  }
 ],
 "metadata": {
  "kernelspec": {
   "display_name": "Python 3 (ipykernel)",
   "language": "python",
   "name": "python3"
  },
  "language_info": {
   "codemirror_mode": {
    "name": "ipython",
    "version": 3
   },
   "file_extension": ".py",
   "mimetype": "text/x-python",
   "name": "python",
   "nbconvert_exporter": "python",
   "pygments_lexer": "ipython3",
   "version": "3.9.10"
  }
 },
 "nbformat": 4,
 "nbformat_minor": 5
}
